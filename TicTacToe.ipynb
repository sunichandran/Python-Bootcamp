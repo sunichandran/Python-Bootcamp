{
 "cells": [
  {
   "cell_type": "code",
   "execution_count": 2,
   "metadata": {},
   "outputs": [],
   "source": [
    "from IPython.display import clear_output\n",
    "\n",
    "# Setting up board as a list, where each index 1-9 corresponds with a number on a number pad, so you get a 3 by 3 board representation.\n",
    "\n",
    "def display_board(board):\n",
    "    \n",
    "    clear_output()\n",
    "    print(board[7]+'|'+board[8]+'|'+board[9])\n",
    "    print(board[4]+'|'+board[5]+'|'+board[6])\n",
    "    print(board[1]+'|'+board[2]+'|'+board[3])"
   ]
  },
  {
   "cell_type": "code",
   "execution_count": 3,
   "metadata": {},
   "outputs": [],
   "source": [
    "# take in a player input and assign their market as 'X' or 'O'\n",
    "def player_input():\n",
    "    \n",
    "    marker = ''\n",
    "    \n",
    "    while marker != 'X' and marker != 'O':\n",
    "        marker = input(\"Player 1, please choose 'X' or 'O': \")\n",
    "        player1_marker = marker\n",
    "        \n",
    "        if marker == 'X':\n",
    "            player2_marker = 'O'\n",
    "        else:\n",
    "            player2_marker = 'X'\n",
    "            \n",
    "        \n",
    "    return(player1_marker,player2_marker)"
   ]
  },
  {
   "cell_type": "code",
   "execution_count": 4,
   "metadata": {},
   "outputs": [],
   "source": [
    "# function that takes in board list object, a marker (X,O) and a desired position (1-9) and assigns it to board\n",
    "def place_marker(board, marker, position):\n",
    "    \n",
    "    board[position] = marker"
   ]
  },
  {
   "cell_type": "code",
   "execution_count": 5,
   "metadata": {},
   "outputs": [],
   "source": [
    "#function that takes in board and a mark (X or O) and check if the mark wins\n",
    "def win_check(board, mark):\n",
    "    \n",
    "    if (board[1] == board[2] == board[3] == mark) or (board[4] == board[5] == board[6] == mark) or (board[7] == board[8] == board[9] == mark) or (board[7] == board[4] == board[1] == mark) or (board[8] == board[5] == board[2] == mark) or (board[9] == board[6] == board[3] == mark) or (board[7] == board[5] == board[3] == mark) or (board[9] == board[5] == board[1] == mark):\n",
    "        return True\n",
    "    \n",
    "    \n",
    "        "
   ]
  },
  {
   "cell_type": "code",
   "execution_count": 6,
   "metadata": {},
   "outputs": [],
   "source": [
    "#function to ramdomly decide who goes first\n",
    "import random\n",
    "\n",
    "def choose_first():\n",
    "    \n",
    "    random_player = random.randint(0,1)\n",
    "    \n",
    "    if random_player == '1':\n",
    "        return \"Player 1\"\n",
    "    else:\n",
    "        return \"Player 2\"\n",
    "    "
   ]
  },
  {
   "cell_type": "code",
   "execution_count": 7,
   "metadata": {},
   "outputs": [],
   "source": [
    "#function to check is the board is full or not. True if full. Otherwise False\n",
    "def full_board_check(board):\n",
    "    \n",
    "    is_full = ' '\n",
    "    \n",
    "    for i in range(1,10):\n",
    "        if board[i] == ' ':\n",
    "            is_full = 'N'\n",
    "            break\n",
    "                        \n",
    "    if is_full == 'N':\n",
    "        return False\n",
    "    else:\n",
    "        return True"
   ]
  },
  {
   "cell_type": "code",
   "execution_count": 14,
   "metadata": {},
   "outputs": [],
   "source": [
    "# function to ask player's next position (1-9) and checks if that position is not already taken\n",
    "def player_choice(board):\n",
    "    \n",
    "    position = 0\n",
    "    \n",
    "\n",
    "    while position!= 1 and position!= 2 and position!=3 and position!=4 and position!=5 and position!=6 and position!=7 and position!=8 and position!=9:\n",
    "        position = int(input(\"Please select a position: (1-9): \"))\n",
    "    \n",
    "        \n",
    "    return position\n"
   ]
  },
  {
   "cell_type": "code",
   "execution_count": 11,
   "metadata": {},
   "outputs": [],
   "source": [
    "# function to check if a space is avaiable in the board\n",
    "def space_check(board,position):\n",
    "    \n",
    "    if board(position) == ' ':\n",
    "        return True"
   ]
  },
  {
   "cell_type": "code",
   "execution_count": 12,
   "metadata": {},
   "outputs": [],
   "source": [
    "# Function to check if the player wants to play again and return a boolean value\n",
    "def replay():\n",
    "    \n",
    "    replay_answer = ' '\n",
    "    \n",
    "    while replay_answer != 'Y' and replay_answer != 'N': \n",
    "        replay_answer = input(\"Do you want to play again? Please select Y or N: \")\n",
    "        \n",
    "    \n",
    "    if replay_answer == 'Y':\n",
    "        return True\n",
    "    else:\n",
    "        return False"
   ]
  },
  {
   "cell_type": "code",
   "execution_count": 15,
   "metadata": {},
   "outputs": [
    {
     "name": "stdout",
     "output_type": "stream",
     "text": [
      "X| | \n",
      "X|O| \n",
      "X|O|O\n",
      "Player 1 wins!!\n",
      "Do you want to play again? Please select Y or N: N\n"
     ]
    }
   ],
   "source": [
    "print('Welcome to Tic Tac Toe!')\n",
    "\n",
    "while True:\n",
    "    # Play the game\n",
    "    \n",
    "    # setting the same board\n",
    "    board = [' ',' ',' ',' ',' ',' ',' ',' ',' ',' ']\n",
    "    \n",
    "    # Assigning a marker for each player\n",
    "    player1_marker,player2_marker = player_input()\n",
    "\n",
    "    # choosing a player\n",
    "    turn = choose_first()\n",
    "    print(turn + \" will go first.\")\n",
    "    \n",
    "    play_game = ' '\n",
    "    play_game = input(\"Ready to play the game? choose Y or N: \" )\n",
    "    while play_game != 'Y' and play_game != 'N':\n",
    "        play_game = input(\"Please enter Y or N: \")\n",
    "    \n",
    "    if play_game == \"Y\":\n",
    "        game_on = True\n",
    "    else:\n",
    "        game_on = False\n",
    "    \n",
    "    # loop till game_on is ture\n",
    "    while game_on:\n",
    "    \n",
    "        if turn == \"Player 1\":\n",
    "            # Display board\n",
    "            display_board(board)\n",
    "            \n",
    "            # Ask player 1 for position\n",
    "            position = player_choice(board)\n",
    "            \n",
    "            # Place the marker in the postion\n",
    "            place_marker(board,player1_marker,position)\n",
    "           \n",
    "            # Check if player 1 wins\n",
    "            if win_check(board,player1_marker):\n",
    "                display_board(board)\n",
    "                print('Player 1 wins!!')\n",
    "                game_on = False\n",
    "            else:\n",
    "                # check if game is a tie\n",
    "                if full_board_check(board):\n",
    "                    display_board(board)\n",
    "                    print('Game is a tie!!')\n",
    "                    game_on = False\n",
    "                else:\n",
    "                    # player 2 turn\n",
    "                    turn = 'Player 2'\n",
    "        else:\n",
    "            # Display board\n",
    "            display_board(board)\n",
    "            \n",
    "            # Ask player 2 for position\n",
    "            position = player_choice(board)\n",
    "            \n",
    "            # Place the marker in the postion\n",
    "            place_marker(board,player2_marker,position)\n",
    "           \n",
    "            # Check if player 2 wins\n",
    "            if win_check(board,player2_marker):\n",
    "                display_board(board)\n",
    "                print('Player 2 wins!!')\n",
    "                game_on = False\n",
    "            else:\n",
    "                # check if game is a tie\n",
    "                if full_board_check(board):\n",
    "                    display_board(board)\n",
    "                    print('Game is a tie!!')\n",
    "                    game_on = False\n",
    "                else:\n",
    "                    # player 1 turn\n",
    "                    turn = 'Player 1'\n",
    "    \n",
    "    \n",
    "    if not replay():\n",
    "        break"
   ]
  },
  {
   "cell_type": "code",
   "execution_count": null,
   "metadata": {},
   "outputs": [],
   "source": []
  }
 ],
 "metadata": {
  "kernelspec": {
   "display_name": "Python 3",
   "language": "python",
   "name": "python3"
  },
  "language_info": {
   "codemirror_mode": {
    "name": "ipython",
    "version": 3
   },
   "file_extension": ".py",
   "mimetype": "text/x-python",
   "name": "python",
   "nbconvert_exporter": "python",
   "pygments_lexer": "ipython3",
   "version": "3.6.5"
  }
 },
 "nbformat": 4,
 "nbformat_minor": 2
}
