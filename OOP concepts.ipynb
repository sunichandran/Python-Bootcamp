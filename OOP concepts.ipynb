{
 "cells": [
  {
   "cell_type": "code",
   "execution_count": 1,
   "metadata": {},
   "outputs": [],
   "source": [
    "class Line():\n",
    "    # coor1 and coor2 are coming in as tuples\n",
    "    \n",
    "    def __init__(self,coor1,coor2):\n",
    "        self.x1 = coor1[0]\n",
    "        self.x2 = coor1[1]\n",
    "        self.y1 = coor2[0]\n",
    "        self.y2 = coor2[1]\n",
    "        \n",
    "    def distance(self):\n",
    "        x1 = self.x1\n",
    "        x2 = self.x2\n",
    "        y1 = self.y1\n",
    "        y2 = self.y2\n",
    "        \n",
    "        return((x2-x1)**2 + (y2-y1)**2)** 0.5\n",
    "        \n",
    "    def slope(self):\n",
    "        \n",
    "        x1 = self.x1\n",
    "        x2 = self.x2\n",
    "        y1 = self.y1\n",
    "        y2 = self.y2\n",
    "        \n",
    "        return (y2-y1) / (x2-x1)\n",
    "\n",
    "        "
   ]
  },
  {
   "cell_type": "code",
   "execution_count": 2,
   "metadata": {},
   "outputs": [],
   "source": [
    "c1 = (3,2)\n",
    "c2 = (8,10)"
   ]
  },
  {
   "cell_type": "code",
   "execution_count": 4,
   "metadata": {},
   "outputs": [],
   "source": [
    "myline = Line(c1,c2)"
   ]
  },
  {
   "cell_type": "code",
   "execution_count": 5,
   "metadata": {},
   "outputs": [
    {
     "data": {
      "text/plain": [
       "2.23606797749979"
      ]
     },
     "execution_count": 5,
     "metadata": {},
     "output_type": "execute_result"
    }
   ],
   "source": [
    "myline.distance()"
   ]
  },
  {
   "cell_type": "code",
   "execution_count": 6,
   "metadata": {},
   "outputs": [
    {
     "data": {
      "text/plain": [
       "-2.0"
      ]
     },
     "execution_count": 6,
     "metadata": {},
     "output_type": "execute_result"
    }
   ],
   "source": [
    "myline.slope()"
   ]
  },
  {
   "cell_type": "code",
   "execution_count": 7,
   "metadata": {},
   "outputs": [],
   "source": [
    "class cylinder():\n",
    "    \n",
    "    def __init__(self,height,radius):\n",
    "        self.height = height\n",
    "        self.radius = radius\n",
    "        \n",
    "    def volume(self):\n",
    "        return self.height * 3.14 * (self.radius)**2\n",
    "        \n",
    "    def surface_area(self):\n",
    "        \n",
    "        top = 3.14 * (self.radius**2)\n",
    "        \n",
    "        return (2*top) + (2 * 3.14 * self.radius * self.height)\n",
    "    "
   ]
  },
  {
   "cell_type": "code",
   "execution_count": 8,
   "metadata": {},
   "outputs": [],
   "source": [
    "myclinder = cylinder(2,3)"
   ]
  },
  {
   "cell_type": "code",
   "execution_count": 10,
   "metadata": {},
   "outputs": [
    {
     "data": {
      "text/plain": [
       "56.52"
      ]
     },
     "execution_count": 10,
     "metadata": {},
     "output_type": "execute_result"
    }
   ],
   "source": [
    "myclinder.volume()"
   ]
  },
  {
   "cell_type": "code",
   "execution_count": 11,
   "metadata": {},
   "outputs": [
    {
     "data": {
      "text/plain": [
       "94.2"
      ]
     },
     "execution_count": 11,
     "metadata": {},
     "output_type": "execute_result"
    }
   ],
   "source": [
    "myclinder.surface_area()"
   ]
  },
  {
   "cell_type": "code",
   "execution_count": 7,
   "metadata": {},
   "outputs": [],
   "source": [
    "class Account():\n",
    "    \n",
    "    def __init__(self,owner,balance):\n",
    "        self.owner = owner\n",
    "        self.balance = balance\n",
    "        \n",
    "        \n",
    "    def deposit(self,dep_amt):    \n",
    "        self.balance = self.balance + dep_amt\n",
    "        print(f'Added {dep_amt} to your account')\n",
    "        \n",
    "    def withdraw(self,withdraw_amt):\n",
    "        \n",
    "        if self.balance >= withdraw_amt:\n",
    "            self.balance = self.balance - withdraw_amt\n",
    "            print(f'{withdraw_amt} withdrawn from your account')\n",
    "        else:\n",
    "            print('sorry, you do not have sufficient funds')\n",
    "            \n",
    "    \n",
    "    def __str__(self):\n",
    "        return f'Owner: {self.owner} \\nBalance: {self.balance}'\n",
    "    \n",
    "    "
   ]
  },
  {
   "cell_type": "code",
   "execution_count": 8,
   "metadata": {},
   "outputs": [],
   "source": [
    "my_account = Account('Sunitha',1000)"
   ]
  },
  {
   "cell_type": "code",
   "execution_count": 9,
   "metadata": {},
   "outputs": [
    {
     "name": "stdout",
     "output_type": "stream",
     "text": [
      "Added 500 to your account\n"
     ]
    }
   ],
   "source": [
    "my_account.deposit(500)"
   ]
  },
  {
   "cell_type": "code",
   "execution_count": 10,
   "metadata": {},
   "outputs": [
    {
     "name": "stdout",
     "output_type": "stream",
     "text": [
      "Owner: Sunitha \n",
      "Balance: 1500\n"
     ]
    }
   ],
   "source": [
    "print(my_account)"
   ]
  },
  {
   "cell_type": "code",
   "execution_count": 11,
   "metadata": {},
   "outputs": [
    {
     "name": "stdout",
     "output_type": "stream",
     "text": [
      "200 withdrawn from your account\n"
     ]
    }
   ],
   "source": [
    "my_account.withdraw(200)"
   ]
  },
  {
   "cell_type": "code",
   "execution_count": 12,
   "metadata": {},
   "outputs": [
    {
     "name": "stdout",
     "output_type": "stream",
     "text": [
      "Owner: Sunitha \n",
      "Balance: 1300\n"
     ]
    }
   ],
   "source": [
    "print(my_account)"
   ]
  },
  {
   "cell_type": "code",
   "execution_count": 13,
   "metadata": {},
   "outputs": [
    {
     "name": "stdout",
     "output_type": "stream",
     "text": [
      "sorry, you do not have sufficient funds\n"
     ]
    }
   ],
   "source": [
    "my_account.withdraw(2000)"
   ]
  },
  {
   "cell_type": "code",
   "execution_count": null,
   "metadata": {},
   "outputs": [],
   "source": []
  }
 ],
 "metadata": {
  "kernelspec": {
   "display_name": "Python 3",
   "language": "python",
   "name": "python3"
  },
  "language_info": {
   "codemirror_mode": {
    "name": "ipython",
    "version": 3
   },
   "file_extension": ".py",
   "mimetype": "text/x-python",
   "name": "python",
   "nbconvert_exporter": "python",
   "pygments_lexer": "ipython3",
   "version": "3.6.5"
  }
 },
 "nbformat": 4,
 "nbformat_minor": 2
}
