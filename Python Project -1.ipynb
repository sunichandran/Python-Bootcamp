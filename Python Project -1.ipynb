{
 "cells": [
  {
   "cell_type": "code",
   "execution_count": 1,
   "metadata": {},
   "outputs": [],
   "source": [
    "def dispplay(row1, row2, row3):\n",
    "    print(row1)\n",
    "    print(row2)\n",
    "    print(row3)\n"
   ]
  },
  {
   "cell_type": "code",
   "execution_count": 3,
   "metadata": {},
   "outputs": [
    {
     "data": {
      "text/plain": [
       "[' ', ' ', ' ']"
      ]
     },
     "metadata": {},
     "output_type": "display_data"
    },
    {
     "data": {
      "text/plain": [
       "[' ', ' ', ' ']"
      ]
     },
     "metadata": {},
     "output_type": "display_data"
    },
    {
     "data": {
      "text/plain": [
       "[' ', ' ', ' ']"
      ]
     },
     "metadata": {},
     "output_type": "display_data"
    }
   ],
   "source": [
    "row1 = [' ',' ',' ']\n",
    "row2 = [' ',' ',' ']\n",
    "row3 = [' ',' ',' ']\n",
    "\n",
    "display(row1,row2,row3)"
   ]
  },
  {
   "cell_type": "code",
   "execution_count": 4,
   "metadata": {},
   "outputs": [],
   "source": [
    "row2[1] = 'X'"
   ]
  },
  {
   "cell_type": "code",
   "execution_count": 5,
   "metadata": {},
   "outputs": [
    {
     "data": {
      "text/plain": [
       "[' ', ' ', ' ']"
      ]
     },
     "metadata": {},
     "output_type": "display_data"
    },
    {
     "data": {
      "text/plain": [
       "[' ', 'X', ' ']"
      ]
     },
     "metadata": {},
     "output_type": "display_data"
    },
    {
     "data": {
      "text/plain": [
       "[' ', ' ', ' ']"
      ]
     },
     "metadata": {},
     "output_type": "display_data"
    }
   ],
   "source": [
    "display(row1,row2,row3)"
   ]
  },
  {
   "cell_type": "code",
   "execution_count": 6,
   "metadata": {},
   "outputs": [
    {
     "name": "stdout",
     "output_type": "stream",
     "text": [
      "Please enter a value: 10\n"
     ]
    },
    {
     "data": {
      "text/plain": [
       "'10'"
      ]
     },
     "execution_count": 6,
     "metadata": {},
     "output_type": "execute_result"
    }
   ],
   "source": [
    "input(\"Please enter a value: \")"
   ]
  },
  {
   "cell_type": "code",
   "execution_count": 11,
   "metadata": {},
   "outputs": [],
   "source": [
    "def user_choice():\n",
    "    choice = 'start'\n",
    "    acceptable_range = range(0,10)\n",
    "    within_range = False\n",
    "    \n",
    "    while choice.isdigit() == False or within_range == False:\n",
    "    \n",
    "        choice = input(\"Please enter a number (0-10): \")\n",
    "        \n",
    "        if choice.isdigit() == False:\n",
    "            print(\"Sorry that is not a digit\")\n",
    "        \n",
    "        if choice.isdigit():\n",
    "            if int(choice) in acceptable_range:\n",
    "                within_range = True\n",
    "            else:\n",
    "                pass\n",
    "    \n",
    "        \n",
    "    return int(choice)"
   ]
  },
  {
   "cell_type": "code",
   "execution_count": 12,
   "metadata": {},
   "outputs": [
    {
     "name": "stdout",
     "output_type": "stream",
     "text": [
      "Please enter a number (0-10): test\n",
      "Sorry that is not a digit\n",
      "Please enter a number (0-10): 11\n",
      "Please enter a number (0-10): 10\n",
      "Please enter a number (0-10): 9\n"
     ]
    },
    {
     "data": {
      "text/plain": [
       "9"
      ]
     },
     "execution_count": 12,
     "metadata": {},
     "output_type": "execute_result"
    }
   ],
   "source": [
    "user_choice()"
   ]
  },
  {
   "cell_type": "code",
   "execution_count": 20,
   "metadata": {},
   "outputs": [],
   "source": [
    "game_list = [0,1,2]"
   ]
  },
  {
   "cell_type": "code",
   "execution_count": 34,
   "metadata": {},
   "outputs": [],
   "source": [
    "def display_gamelist(game_list):\n",
    "    print(\"Here's the Current list: \")\n",
    "    print(game_list)"
   ]
  },
  {
   "cell_type": "code",
   "execution_count": 35,
   "metadata": {},
   "outputs": [
    {
     "name": "stdout",
     "output_type": "stream",
     "text": [
      "Here's the Current list: \n",
      "[0, 1, 2]\n"
     ]
    }
   ],
   "source": [
    "display_game_list()"
   ]
  },
  {
   "cell_type": "code",
   "execution_count": 16,
   "metadata": {},
   "outputs": [],
   "source": [
    "def position_choice():\n",
    "    \n",
    "    choice = 'wrong'\n",
    "    \n",
    "    while choice not in ['0','1','2']:\n",
    "        \n",
    "        choice = input(\"Pick a position (0,1,2): \")\n",
    "    \n",
    "        if choice not in ['0','1', '2']:\n",
    "            print(\"Please enter a valid choice of 0,1,2\")\n",
    "            \n",
    "    \n",
    "    return int(choice)\n",
    "    "
   ]
  },
  {
   "cell_type": "code",
   "execution_count": 17,
   "metadata": {},
   "outputs": [
    {
     "name": "stdout",
     "output_type": "stream",
     "text": [
      "Pick a position (0,1,2): test\n",
      "Please enter a valid choice of 0,1,2\n",
      "Pick a position (0,1,2): 12\n",
      "Please enter a valid choice of 0,1,2\n",
      "Pick a position (0,1,2): 45\n",
      "Please enter a valid choice of 0,1,2\n",
      "Pick a position (0,1,2): 2\n"
     ]
    },
    {
     "data": {
      "text/plain": [
       "2"
      ]
     },
     "execution_count": 17,
     "metadata": {},
     "output_type": "execute_result"
    }
   ],
   "source": [
    "position_choice()"
   ]
  },
  {
   "cell_type": "code",
   "execution_count": 23,
   "metadata": {},
   "outputs": [],
   "source": [
    "def replacement_choice(game_list,position):\n",
    "    \n",
    "    user_placement = input(\"Please enter a string to place at a position: \")\n",
    "    \n",
    "    game_list[position] = user_placement\n",
    "    \n",
    "    return game_list\n",
    "\n",
    "    "
   ]
  },
  {
   "cell_type": "code",
   "execution_count": 25,
   "metadata": {},
   "outputs": [
    {
     "name": "stdout",
     "output_type": "stream",
     "text": [
      "Please enter a string to place at a position: test\n"
     ]
    },
    {
     "data": {
      "text/plain": [
       "[0, 1, 'test']"
      ]
     },
     "execution_count": 25,
     "metadata": {},
     "output_type": "execute_result"
    }
   ],
   "source": [
    "replacement_choice(game_list,2)"
   ]
  },
  {
   "cell_type": "code",
   "execution_count": 30,
   "metadata": {},
   "outputs": [],
   "source": [
    "def gameon_choice():\n",
    "    \n",
    "    choice = 'wrong'\n",
    "    \n",
    "    while choice not in ['Y', 'N']:\n",
    "        \n",
    "        choice = input(\"Keep Playing? (Y or N): \")\n",
    "    \n",
    "        if choice not in ['Y', 'N']:\n",
    "            print(\"Please enter a valid choice of Y or N\")\n",
    "            \n",
    "    \n",
    "    if choice == \"Y\":\n",
    "        return True\n",
    "    else:\n",
    "        return False\n",
    "    \n",
    "    return int(choice)"
   ]
  },
  {
   "cell_type": "code",
   "execution_count": 31,
   "metadata": {},
   "outputs": [
    {
     "name": "stdout",
     "output_type": "stream",
     "text": [
      "Keep Playing? (Y or N): test\n",
      "Please enter a valid choice of Y or N\n",
      "Keep Playing? (Y or N): Y\n"
     ]
    },
    {
     "data": {
      "text/plain": [
       "True"
      ]
     },
     "execution_count": 31,
     "metadata": {},
     "output_type": "execute_result"
    }
   ],
   "source": [
    "gameon_choice()"
   ]
  },
  {
   "cell_type": "code",
   "execution_count": 36,
   "metadata": {},
   "outputs": [
    {
     "name": "stdout",
     "output_type": "stream",
     "text": [
      "Here's the Current list: \n",
      "[0, 1, 2]\n",
      "Pick a position (0,1,2): fgddfg\n",
      "Please enter a valid choice of 0,1,2\n",
      "Pick a position (0,1,2): 10\n",
      "Please enter a valid choice of 0,1,2\n",
      "Pick a position (0,1,2): 1\n",
      "Please enter a string to place at a position: X\n",
      "Here's the Current list: \n",
      "[0, 'X', 2]\n",
      "Keep Playing? (Y or N): y\n",
      "Please enter a valid choice of Y or N\n",
      "Keep Playing? (Y or N): Y\n",
      "Here's the Current list: \n",
      "[0, 'X', 2]\n",
      "Pick a position (0,1,2): 0\n",
      "Please enter a string to place at a position: X\n",
      "Here's the Current list: \n",
      "['X', 'X', 2]\n",
      "Keep Playing? (Y or N): y\n",
      "Please enter a valid choice of Y or N\n",
      "Keep Playing? (Y or N): Y\n",
      "Here's the Current list: \n",
      "['X', 'X', 2]\n",
      "Pick a position (0,1,2): X\n",
      "Please enter a valid choice of 0,1,2\n",
      "Pick a position (0,1,2): 2\n",
      "Please enter a string to place at a position: X\n",
      "Here's the Current list: \n",
      "['X', 'X', 'X']\n",
      "Keep Playing? (Y or N): N\n"
     ]
    }
   ],
   "source": [
    "game_on = True\n",
    "game_list = [0,1,2]\n",
    "\n",
    "while game_on:\n",
    "    \n",
    "    display_gamelist(game_list)\n",
    "    \n",
    "    position = position_choice()\n",
    "    \n",
    "    game_list = replacement_choice(game_list,position)\n",
    "    \n",
    "    display_gamelist(game_list)\n",
    "    \n",
    "    game_on = gameon_choice()"
   ]
  },
  {
   "cell_type": "code",
   "execution_count": null,
   "metadata": {},
   "outputs": [],
   "source": []
  }
 ],
 "metadata": {
  "kernelspec": {
   "display_name": "Python 3",
   "language": "python",
   "name": "python3"
  },
  "language_info": {
   "codemirror_mode": {
    "name": "ipython",
    "version": 3
   },
   "file_extension": ".py",
   "mimetype": "text/x-python",
   "name": "python",
   "nbconvert_exporter": "python",
   "pygments_lexer": "ipython3",
   "version": "3.6.5"
  }
 },
 "nbformat": 4,
 "nbformat_minor": 2
}
